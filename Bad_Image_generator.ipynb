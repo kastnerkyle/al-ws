{
 "cells": [
  {
   "cell_type": "markdown",
   "metadata": {},
   "source": [
    "Here, we illustrate a naive gradient model does not work so well, even if optimised to generate data that look visually ok.\n",
    "\n",
    " $x,z\\sim p_\\theta(z,x)$\n",
    " \n",
    "The gradient model is a neural network $S_\\gamma$ that takes $x$ and a random noise $\\epsilon$ and outputs a \"posterior sample\"  $z'$ in the space of $z$, and $z'=S_\\gamma(x,\\epsilon)$. The gradient model is trained so that the MSE betwee $\\log p_\\theta(S_\\gamma(x,\\epsilon),x)$  and $\\log p_\\theta(z',x)$ are minimised over $\\gamma$. We can then use $S_\\gamma$ to produce a sample and evaluate $\\log p_\\theta(z',x)$ with $x$, and compute gradient by auto-diff, same as ALWS.\n",
    "\n",
    "The results are not so good (high FID score), although we tried hard to make it look nice visually. We then use $S_\\gamma$ \n",
    "\n",
    "Ideally, we would want the MSE betwee $\\nabla_\\theta \\log p_\\theta(S_\\gamma(x,\\epsilon),x)$  and $\\nabla_\\theta \\log p_\\theta(z',x)$ to be minimised, but this is not easily implemented. "
   ]
  },
  {
   "cell_type": "code",
   "execution_count": null,
   "metadata": {},
   "outputs": [],
   "source": [
    "import os\n",
    "os.environ[\"MKL_NUM_THREADS\"]=\"16\" \n",
    "os.environ[\"NUMEXPR_NUM_THREADS\"]='16'\n",
    "os.environ[\"OMP_NUM_THREADS\"]='16'\n",
    "import matplotlib.pyplot as plt\n",
    "import types\n",
    "import numpy as np\n",
    "from tqdm import notebook\n",
    "from mmd import MMD_3_Sample_Test\n",
    "import torch\n",
    "from torch import optim\n",
    "\n",
    "%matplotlib inline\n",
    "\n",
    "from importlib import reload\n",
    "import torchvision\n",
    "\n",
    "import Generators, Features, Data, GradientEstimators\n",
    "\n",
    "import KernelWakeSleep as kws\n",
    "\n",
    "device = torch.device(\"cuda:0\")\n",
    "reload(Data)"
   ]
  },
  {
   "cell_type": "code",
   "execution_count": null,
   "metadata": {},
   "outputs": [],
   "source": [
    "batch_size = 100\n",
    "\n",
    "dname = \"mnist\"\n",
    "binary= False and dname == \"fmnist\"\n",
    "nc = 3 if dname in [\"cifar\", \"celeb\"] else 1\n",
    "\n",
    "\n",
    "nsleep = 2000\n",
    "nepoch = 20\n",
    "nvalid = 200\n",
    "\n",
    "seed = 0\n",
    "np.random.seed(seed)\n",
    "torch.manual_seed(seed)\n",
    "\n",
    "train_loader, test_images = Data.load_data(dname, binary=binary, ntrain=10**5, ntest=10**4, image_size=32, batch_size=batch_size)\n",
    "Dx = test_images.shape[-1]\n",
    "image_size = int(np.sqrt(Dx//nc))"
   ]
  },
  {
   "cell_type": "code",
   "execution_count": null,
   "metadata": {},
   "outputs": [],
   "source": [
    "reload(Generators)\n",
    "reload(Features)\n",
    "reload(Likelihoods)\n",
    "reload(GradientEstimators)"
   ]
  },
  {
   "cell_type": "code",
   "execution_count": 4,
   "metadata": {},
   "outputs": [],
   "source": [
    "D0 = 16\n",
    "log_noise = torch.zeros((), requires_grad=True, device=device)\n",
    "\n",
    "if dname == \"van\":\n",
    "    tanh = sigmoid = False\n",
    "else:\n",
    "    tanh = not binary\n",
    "    sigmoid = binary\n",
    "    \n",
    "ngf = 64\n",
    "# generative model\n",
    "prior = torch.distributions.Normal(torch.zeros(D0, device=device), torch.ones(D0,device=device))\n",
    "\n",
    "\n",
    "# fully connected generator\n",
    "# gen_network = Generators.fc_gen(D0,512,512,image_size**2*nc,tanh=tanh, sigmoid=False).to(device)\n",
    "\n",
    "# convolutional generator\n",
    "gen_network = Generators.dc_gen(D0,ngf, tanh=tanh, sigmoid=sigmoid, nc=nc).to(device)\n",
    "\n",
    "if not binary:\n",
    "    obs   = Likelihoods.GaussianObservation(gen_network, log_noise)\n",
    "else:\n",
    "    obs   = Likelihoods.BernoulliObservation(gen_network)"
   ]
  },
  {
   "cell_type": "code",
   "execution_count": 5,
   "metadata": {},
   "outputs": [],
   "source": [
    "nsleep = 2000\n",
    "num_post = 1\n",
    "gm = GradientEstimators.ConvEstimator(image_size, nc=nc, D0=D0,bn=True).to(device)"
   ]
  },
  {
   "cell_type": "code",
   "execution_count": 6,
   "metadata": {},
   "outputs": [],
   "source": [
    "\n",
    "optimizer = optim.Adam(list(gen_network.parameters())+[log_noise], lr=0.001)\n",
    "grad_optimizer = optim.Adam(gm.parameters(), lr=0.001)\n",
    "\n",
    "\n",
    "Elogps = []\n",
    "losses = []\n",
    "\n",
    "log_lams = []\n",
    "log_sigmas = []\n",
    "\n",
    "network_norms = []\n",
    "kernel_network_norms = []\n",
    "kernel_network_feat_norms = []\n",
    "noise_stds = []\n",
    "network_grad_norms = []\n",
    "\n",
    "feat_mmds = []\n",
    "recons = []"
   ]
  },
  {
   "cell_type": "code",
   "execution_count": 8,
   "metadata": {},
   "outputs": [
    {
     "data": {
      "application/vnd.jupyter.widget-view+json": {
       "model_id": "83d4f2c44ed64741bc9ad63392e444c6",
       "version_major": 2,
       "version_minor": 0
      },
      "text/plain": [
       "HBox(children=(IntProgress(value=0, max=10), HTML(value='')))"
      ]
     },
     "metadata": {},
     "output_type": "display_data"
    },
    {
     "data": {
      "application/vnd.jupyter.widget-view+json": {
       "model_id": "",
       "version_major": 2,
       "version_minor": 0
      },
      "text/plain": [
       "HBox(children=(IntProgress(value=0, max=600), HTML(value='')))"
      ]
     },
     "metadata": {},
     "output_type": "display_data"
    },
    {
     "data": {
      "application/vnd.jupyter.widget-view+json": {
       "model_id": "",
       "version_major": 2,
       "version_minor": 0
      },
      "text/plain": [
       "HBox(children=(IntProgress(value=0, max=600), HTML(value='')))"
      ]
     },
     "metadata": {},
     "output_type": "display_data"
    },
    {
     "data": {
      "application/vnd.jupyter.widget-view+json": {
       "model_id": "",
       "version_major": 2,
       "version_minor": 0
      },
      "text/plain": [
       "HBox(children=(IntProgress(value=0, max=600), HTML(value='')))"
      ]
     },
     "metadata": {},
     "output_type": "display_data"
    },
    {
     "data": {
      "application/vnd.jupyter.widget-view+json": {
       "model_id": "",
       "version_major": 2,
       "version_minor": 0
      },
      "text/plain": [
       "HBox(children=(IntProgress(value=0, max=600), HTML(value='')))"
      ]
     },
     "metadata": {},
     "output_type": "display_data"
    },
    {
     "data": {
      "application/vnd.jupyter.widget-view+json": {
       "model_id": "",
       "version_major": 2,
       "version_minor": 0
      },
      "text/plain": [
       "HBox(children=(IntProgress(value=0, max=600), HTML(value='')))"
      ]
     },
     "metadata": {},
     "output_type": "display_data"
    },
    {
     "data": {
      "application/vnd.jupyter.widget-view+json": {
       "model_id": "",
       "version_major": 2,
       "version_minor": 0
      },
      "text/plain": [
       "HBox(children=(IntProgress(value=0, max=600), HTML(value='')))"
      ]
     },
     "metadata": {},
     "output_type": "display_data"
    },
    {
     "data": {
      "application/vnd.jupyter.widget-view+json": {
       "model_id": "",
       "version_major": 2,
       "version_minor": 0
      },
      "text/plain": [
       "HBox(children=(IntProgress(value=0, max=600), HTML(value='')))"
      ]
     },
     "metadata": {},
     "output_type": "display_data"
    },
    {
     "data": {
      "application/vnd.jupyter.widget-view+json": {
       "model_id": "",
       "version_major": 2,
       "version_minor": 0
      },
      "text/plain": [
       "HBox(children=(IntProgress(value=0, max=600), HTML(value='')))"
      ]
     },
     "metadata": {},
     "output_type": "display_data"
    },
    {
     "data": {
      "application/vnd.jupyter.widget-view+json": {
       "model_id": "",
       "version_major": 2,
       "version_minor": 0
      },
      "text/plain": [
       "HBox(children=(IntProgress(value=0, max=600), HTML(value='')))"
      ]
     },
     "metadata": {},
     "output_type": "display_data"
    },
    {
     "data": {
      "application/vnd.jupyter.widget-view+json": {
       "model_id": "",
       "version_major": 2,
       "version_minor": 0
      },
      "text/plain": [
       "HBox(children=(IntProgress(value=0, max=600), HTML(value='')))"
      ]
     },
     "metadata": {},
     "output_type": "display_data"
    },
    {
     "name": "stdout",
     "output_type": "stream",
     "text": [
      "\n"
     ]
    }
   ],
   "source": [
    "nsleep = 100\n",
    "num_post = 1\n",
    "gm.train()\n",
    "\n",
    "\n",
    "for ei in notebook.tqdm(range(10)):\n",
    "    \n",
    "    with notebook.tqdm(train_loader, leave=False) as t:\n",
    "        for i, (X_tr,) in enumerate(t):\n",
    "        \n",
    "            X_tr = X_tr.float().to(device)\n",
    "\n",
    "            \n",
    "            data_0, data_1, norm, nat = kws.sleep(prior, obs, nsleep)\n",
    "            \n",
    "            true_logp = (nat * obs.suff(data_1)).sum(-1) - norm\n",
    "            \n",
    "            z = gm.post_samples(data_1)\n",
    "\n",
    "            post_logp = (obs.nat(z).reshape(nsleep,num_post,-1).mean(1) * obs.suff(data_1)).sum(-1) - \\\n",
    "                        obs.norm(z).reshape(nsleep,num_post).mean(1)\n",
    "\n",
    "#             post_logp = post_elbos(data_1)[:,0]\n",
    "            \n",
    "            loss = ((post_logp - true_logp)**2).mean(0)\n",
    "            \n",
    "            grad_optimizer.zero_grad()\n",
    "            loss.backward(create_graph=False)\n",
    "            grad_optimizer.step()\n",
    "            \n",
    "            z = gm.post_samples(X_tr).detach()\n",
    "                \n",
    "            post_logp = -((obs.nat(z).reshape(batch_size,num_post,-1).mean(1) * obs.suff(X_tr)).sum(-1) - \\\n",
    "                          obs.norm(z).reshape(batch_size,num_post,-1).mean(1)).mean()\n",
    "#             post_logp = post_elbos(X_tr).mean()\n",
    "            optimizer.zero_grad()\n",
    "            post_logp.backward()\n",
    "            optimizer.step()\n",
    "            \n",
    "\n",
    "            Elogps += post_logp.item(),\n",
    "            \n",
    "            \n",
    "#             for m in obs.network.parameters():\n",
    "#                 m.detach()"
   ]
  },
  {
   "cell_type": "code",
   "execution_count": 9,
   "metadata": {
    "scrolled": false
   },
   "outputs": [
    {
     "data": {
      "image/png": "[encoded data removed]",
      "text/plain": [
       "<Figure size 864x576 with 9 Axes>"
      ]
     },
     "metadata": {
      "needs_background": "light"
     },
     "output_type": "display_data"
    }
   ],
   "source": [
    "params = [Elogps,losses, log_sigmas, \n",
    "          log_lams, network_norms, network_grad_norms, \n",
    "          kernel_network_norms, noise_stds]\n",
    "\n",
    "nplot = len(params)\n",
    "fig, axes = plt.subplots(3,nplot//3+1, figsize=(12,8), sharex=True)\n",
    "axes = np.ravel(axes)\n",
    "for i in range(nplot):\n",
    "    axes[i].plot(params[i])\n",
    "    axes[i].grid(True)\n",
    "# axes[0].set_xlim([20000,2000])"
   ]
  },
  {
   "cell_type": "code",
   "execution_count": 10,
   "metadata": {
    "scrolled": false
   },
   "outputs": [
    {
     "data": {
      "image/png": "[encoded data removed]",
      "text/plain": [
       "<Figure size 576x576 with 1 Axes>"
      ]
     },
     "metadata": {
      "needs_background": "light"
     },
     "output_type": "display_data"
    }
   ],
   "source": [
    "from scipy.stats import norm\n",
    "from itertools import product\n",
    "nz = 8\n",
    "margin = 0.1\n",
    "zgrid = norm.ppf(np.linspace(margin,1-margin,nz))\n",
    "\n",
    "x = kws.draw_mean(prior, obs, nz*nz).detach().cpu().numpy()\n",
    "x = x.reshape(x.shape[0], nc, image_size, image_size)\n",
    "x = np.transpose(x, (0,2,3,1))\n",
    "x = x.reshape(nz,nz,image_size,image_size,nc)\n",
    "\n",
    "x = np.concatenate(x,-2)\n",
    "x = np.concatenate(x,0)\n",
    "if nc == 1:\n",
    "    x = x[...,0]\n",
    "plt.figure(figsize=(8,8))\n",
    "if x.min() < 0:\n",
    "    x = x/2. + 0.5\n",
    "plt.imshow(x, cmap=\"gray\")\n",
    "plt.gca().set_axis_off()\n",
    "# plt.savefig(\"figs/mnist_10d_after_2.pdf\", bbox_inches='tight', pad_inches=0)"
   ]
  },
  {
   "cell_type": "code",
   "execution_count": 11,
   "metadata": {},
   "outputs": [],
   "source": [
    "ntest= 10000\n",
    "model_samples = x = kws.draw_mean(prior, obs, ntest).detach().cpu().numpy()"
   ]
  },
  {
   "cell_type": "code",
   "execution_count": null,
   "metadata": {},
   "outputs": [],
   "source": [
    "import Metrics\n",
    "reload(Metrics)\n",
    "lenet = Metrics.LeNet5()"
   ]
  },
  {
   "cell_type": "code",
   "execution_count": 13,
   "metadata": {},
   "outputs": [
    {
     "data": {
      "text/plain": [
       "8.580248004271127"
      ]
     },
     "execution_count": 13,
     "metadata": {},
     "output_type": "execute_result"
    }
   ],
   "source": [
    "Metrics.FID(lenet, test_images[:ntest], (model_samples))"
   ]
  }
 ],
 "metadata": {
  "kernelspec": {
   "display_name": "Python (alws)",
   "language": "python",
   "name": "alws"
  },
  "language_info": {
   "codemirror_mode": {
    "name": "ipython",
    "version": 3
   },
   "file_extension": ".py",
   "mimetype": "text/x-python",
   "name": "python",
   "nbconvert_exporter": "python",
   "pygments_lexer": "ipython3",
   "version": "3.7.5"
  }
 },
 "nbformat": 4,
 "nbformat_minor": 2
}
